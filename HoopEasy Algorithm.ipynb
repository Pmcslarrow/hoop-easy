{
 "cells": [
  {
   "cell_type": "code",
   "execution_count": 6,
   "metadata": {},
   "outputs": [],
   "source": [
    "import numpy as np\n",
    "import matplotlib.pyplot as plt\n",
    "import pandas as pd"
   ]
  },
  {
   "cell_type": "markdown",
   "metadata": {},
   "source": [
    "### Player Class Creation "
   ]
  },
  {
   "cell_type": "code",
   "execution_count": 7,
   "metadata": {},
   "outputs": [],
   "source": [
    "class Player:\n",
    "    def __init__(self, name, begin_rating, games_played=0):\n",
    "        self.name = name\n",
    "        self.rating = begin_rating\n",
    "        self.games_played = games_played\n",
    "        \n",
    "    def __repr__(self):\n",
    "        return f'Rating:{self.rating}, Games Played: {self.games_played}' \n",
    "    \n",
    "    def get_rating(self):\n",
    "        return self.rating\n",
    "    \n",
    "    def get_games(self):\n",
    "        return self.games_played\n",
    "    \n",
    "    def update_rating(self, new_rating):\n",
    "        if new_rating > 99: # setting max\n",
    "            self.rating = 99\n",
    "            \n",
    "        elif new_rating < 60: # setting min\n",
    "            self.rating = 60\n",
    "            \n",
    "        else:\n",
    "            self.rating = new_rating\n",
    "        \n",
    "    def update_games(self):\n",
    "        self.games_played += 1"
   ]
  },
  {
   "cell_type": "code",
   "execution_count": 25,
   "metadata": {},
   "outputs": [],
   "source": [
    "# K Scaling Factor Dictionary\n",
    "k_scaler = {10:4, 25:2, 50:1, 100:0.5}\n",
    "    # number of games (or less) played:k\n",
    "\n",
    "l_scaler = {10:2, 25:1, 50:0.5, 100:0.25}\n",
    "    # number of games (or less) played:l"
   ]
  },
  {
   "cell_type": "markdown",
   "metadata": {},
   "source": [
    "How should K and L scalers be adjusted as games played increase? K definitely should go down (at what rate?), L is a little trickier to think about"
   ]
  },
  {
   "cell_type": "code",
   "execution_count": 59,
   "metadata": {},
   "outputs": [],
   "source": [
    "def rating_algorithm(player_A, player_B, P_A, P_B, c=400):\n",
    "    '''\n",
    "    player_A (Player class): \n",
    "    player_B (Player class):\n",
    "    P_A (float): Player A's Score\n",
    "    P_B (float): Player B's Score\n",
    "    c=400 (int): magic thing\n",
    "    '''\n",
    "    \n",
    "    R_A = player_A.get_rating()\n",
    "    R_B = player_B.get_rating()\n",
    "    \n",
    "    Q_A = 10**(R_A/c)\n",
    "    Q_B = 10**(R_B/c)\n",
    "    \n",
    "    E_A = Q_A/(Q_A + Q_B)\n",
    "    E_B = 1 - E_A\n",
    "    \n",
    "    \n",
    "    if P_A > P_B:\n",
    "        S_A = 1\n",
    "        S_B = 0\n",
    "        \n",
    "    elif P_B > P_A:\n",
    "        S_A = 0\n",
    "        S_B = 1\n",
    "    \n",
    "    else:\n",
    "        S_A, S_B = 0, 0 \n",
    "        \n",
    "        \n",
    "    # setting k and l scalers: setting the same game marks for now\n",
    "    # Player A\n",
    "    for game_mark in k_scaler.keys():\n",
    "        if player_A.get_games() <= game_mark:\n",
    "            k_A = k_scaler[game_mark]\n",
    "            #l_A = l_scaler[game_mark]\n",
    "            l_A = 1\n",
    "            break\n",
    "            \n",
    "    # Player B\n",
    "    for game_mark in k_scaler.keys():\n",
    "        if player_B.get_games() <= game_mark:\n",
    "            k_B = k_scaler[game_mark]\n",
    "            #l_B = l_scaler[game_mark]\n",
    "            l_B = 1\n",
    "            break    \n",
    "    \n",
    "    new_R_A = R_A + k_A*(S_A-E_A) + l_A*(P_A/(P_A + P_B)) # maybe l should just always be 1? or very small at least \n",
    "    new_R_B = R_B + k_B*(S_B-E_B) + l_B*(P_B/(P_A + P_B))\n",
    "    # error if score ends 0-0 (never happen? hopefully)\n",
    "    \n",
    "    player_A.update_rating(new_R_A)\n",
    "    player_B.update_rating(new_R_B)\n",
    "    \n",
    "    player_A.update_games()\n",
    "    player_B.update_games()\n",
    "    \n",
    "    return f'Expected: ({E_A}, {E_B}) ... Player A: {R_A} -> {new_R_A} ... Player B: {R_B} -> {new_R_B}'"
   ]
  },
  {
   "cell_type": "code",
   "execution_count": 60,
   "metadata": {},
   "outputs": [],
   "source": [
    "A = Player('JB', 65) \n",
    "B = Player('Paul', 70)\n",
    "#rating_algorithm(JB, Paul, 18, 21, c=400)"
   ]
  },
  {
   "cell_type": "code",
   "execution_count": 61,
   "metadata": {},
   "outputs": [
    {
     "name": "stdout",
     "output_type": "stream",
     "text": [
      "Game 0: Player A (3) vs. Player B (19) Expected: (0.4928049182909485, 0.5071950817090515) ... Player A: 65 -> 63.16514396319984 ... Player B: 70 -> 72.83485603680015\n",
      "Game 1: Player A (13) vs. Player B (6) Expected: (0.4860877576673387, 0.5139122423326613) ... Player A: 63.16514396319984 -> 65.90500345884628 ... Player B: 72.83485603680015 -> 71.0949965411537\n",
      "Game 2: Player A (8) vs. Player B (5) Expected: (0.492531555064266, 0.5074684449357341) ... Player A: 65.90500345884628 -> 68.55026185397384 ... Player B: 71.0949965411537 -> 69.44973814602615\n",
      "Game 3: Player A (14) vs. Player B (5) Expected: (0.49870555245348225, 0.5012944475465178) ... Player A: 68.55026185397384 -> 71.29228174942307 ... Player B: 69.44973814602615 -> 67.70771825057692\n",
      "Game 4: Player A (18) vs. Player B (9) Expected: (0.5051584185208966, 0.4948415814791034) ... Player A: 71.29228174942307 -> 73.93831474200616 ... Player B: 67.70771825057692 -> 66.06168525799383\n",
      "Game 5: Player A (15) vs. Player B (20) Expected: (0.5113334394292215, 0.4886665605707785) ... Player A: 73.93831474200616 -> 72.3215524128607 ... Player B: 66.06168525799383 -> 68.67844758713929\n",
      "Game 6: Player A (21) vs. Player B (7) Expected: (0.5052426571481933, 0.4947573428518067) ... Player A: 72.3215524128607 -> 75.05058178426792 ... Player B: 68.67844758713929 -> 66.94941821573207\n",
      "Game 7: Player A (9) vs. Player B (9) Expected: (0.511656399155356, 0.488343600844644) ... Player A: 75.05058178426792 -> 73.5039561876465 ... Player B: 66.94941821573207 -> 65.49604381235349\n",
      "Game 8: Player A (16) vs. Player B (21) Expected: (0.5115222720001533, 0.4884777279998467) ... Player A: 73.5039561876465 -> 71.89029953207832 ... Player B: 65.49604381235349 -> 68.10970046792167\n",
      "Game 9: Player A (10) vs. Player B (10) Expected: (0.5054405046775757, 0.49455949532242427) ... Player A: 71.89029953207832 -> 70.36853751336801 ... Player B: 68.10970046792167 -> 66.63146248663197\n",
      "Game 10: Player A (19) vs. Player B (13) Expected: (0.5053778758835795, 0.4946221241164205) ... Player A: 70.36853751336801 -> 72.9407760098337 ... Player B: 66.63146248663197 -> 65.05922399016629\n",
      "Game 11: Player A (5) vs. Player B (20) Expected: (0.5113405198854887, 0.4886594801145113) ... Player A: 72.9407760098337 -> 72.11809497006273 ... Player B: 65.05922399016629 -> 66.88190502993726\n",
      "Game 12: Player A (16) vs. Player B (7) Expected: (0.5075349125929455, 0.4924650874070545) ... Player A: 72.11809497006273 -> 73.79867731878988 ... Player B: 66.88190502993726 -> 66.2013226812101\n",
      "Game 13: Player A (19) vs. Player B (12) Expected: (0.5109317298808564, 0.48906827011914356) ... Player A: 73.79867731878988 -> 75.38971708483461 ... Player B: 66.2013226812101 -> 65.61028291516537\n",
      "Game 14: Player A (3) vs. Player B (7) Expected: (0.5140700214815815, 0.48592997851841846) ... Player A: 75.38971708483461 -> 74.66157704187145 ... Player B: 65.61028291516537 -> 67.33842295812853\n",
      "Game 15: Player A (4) vs. Player B (7) Expected: (0.5105373054657483, 0.48946269453425173) ... Player A: 74.66157704187145 -> 74.00413879457632 ... Player B: 67.33842295812853 -> 68.99586120542367\n",
      "Game 16: Player A (5) vs. Player B (19) Expected: (0.5072069916465505, 0.4927930083534495) ... Player A: 74.00413879457632 -> 73.19805814461655 ... Player B: 68.99586120542367 -> 70.80194185538343\n",
      "Game 17: Player A (19) vs. Player B (5) Expected: (0.5034482338614005, 0.4965517661385995) ... Player A: 73.19805814461655 -> 74.98282834356043 ... Player B: 70.80194185538343 -> 70.01717165643956\n",
      "Game 18: Player A (19) vs. Player B (7) Expected: (0.5071456678733134, 0.4928543321266866) ... Player A: 74.98282834356043 -> 76.69930623858303 ... Player B: 70.01717165643956 -> 69.30069376141695\n",
      "Game 19: Player A (7) vs. Player B (15) Expected: (0.5106458500940478, 0.48935414990595216) ... Player A: 76.69930623858303 -> 75.99619635657675 ... Player B: 69.30069376141695 -> 71.00380364342324\n",
      "Game 20: Player A (19) vs. Player B (7) Expected: (0.507184136206826, 0.492815863793174) ... Player A: 75.99619635657675 -> 77.71259731493232 ... Player B: 71.00380364342324 -> 70.28740268506766\n",
      "Game 21: Player A (3) vs. Player B (21) Expected: (0.5106840874822297, 0.4893159125177703) ... Player A: 77.71259731493232 -> 76.81622913996786 ... Player B: 70.28740268506766 -> 72.18377086003213\n",
      "Game 22: Player A (18) vs. Player B (21) Expected: (0.5066662483325659, 0.4933337516674341) ... Player A: 76.81622913996786 -> 76.2644351048412 ... Player B: 72.18377086003213 -> 73.73556489515879\n",
      "Game 23: Player A (2) vs. Player B (21) Expected: (0.503639272511112, 0.49636072748888804) ... Player A: 76.2644351048412 -> 75.3441130815581 ... Player B: 73.73556489515879 -> 75.65588691844188\n",
      "Game 24: Player A (13) vs. Player B (8) Expected: (0.49955132150218645, 0.5004486784978135) ... Player A: 75.3441130815581 -> 76.96405805760135 ... Player B: 75.65588691844188 -> 75.03594194239864\n",
      "Game 25: Player A (5) vs. Player B (10) Expected: (0.5027747536550157, 0.49722524634498433) ... Player A: 76.96405805760135 -> 76.29184188362464 ... Player B: 75.03594194239864 -> 76.70815811637534\n",
      "Game 26: Player A (3) vs. Player B (5) Expected: (0.4994008730670554, 0.5005991269329446) ... Player A: 76.29184188362464 -> 76.16744101055758 ... Player B: 76.70815811637534 -> 77.8325589894424\n",
      "Game 27: Player A (16) vs. Player B (15) Expected: (0.49760372094899463, 0.5023962790510054) ... Player A: 76.16744101055758 -> 77.18596632186664 ... Player B: 77.8325589894424 -> 77.81403367813334\n",
      "Game 28: Player A (7) vs. Player B (19) Expected: (0.49909613940210407, 0.5009038605978959) ... Player A: 77.18596632186664 -> 76.95610095169532 ... Player B: 77.81403367813334 -> 79.04389904830467\n",
      "Game 29: Player A (9) vs. Player B (9) Expected: (0.49699545318069593, 0.5030045468193041) ... Player A: 76.95610095169532 -> 76.95910549851462 ... Player B: 79.04389904830467 -> 79.04089450148537\n",
      "Game 30: Player A (7) vs. Player B (13) Expected: (0.49700410065022593, 0.5029958993497741) ... Player A: 76.95910549851462 -> 76.81210139786438 ... Player B: 79.04089450148537 -> 80.1878986021356\n",
      "Game 31: Player A (12) vs. Player B (12) Expected: (0.4951419901760117, 0.5048580098239883) ... Player A: 76.81210139786438 -> 76.81695940768837 ... Player B: 80.1878986021356 -> 80.18304059231161\n",
      "Game 32: Player A (10) vs. Player B (3) Expected: (0.4951559713360995, 0.5048440286639004) ... Player A: 76.81695940768837 -> 78.09103420558304 ... Player B: 80.18304059231161 -> 79.90896579441694\n",
      "Game 33: Player A (18) vs. Player B (14) Expected: (0.4973838100152353, 0.5026161899847648) ... Player A: 78.09103420558304 -> 79.1561503955678 ... Player B: 79.90896579441694 -> 79.84384960443218\n",
      "Game 34: Player A (14) vs. Player B (7) Expected: (0.499010322575724, 0.500989677424276) ... Player A: 79.1561503955678 -> 80.32380673965875 ... Player B: 79.84384960443218 -> 79.67619326034124\n",
      "Game 35: Player A (2) vs. Player B (8) Expected: (0.5009319896353102, 0.49906801036468984) ... Player A: 80.32380673965875 -> 80.02287475002345 ... Player B: 79.67619326034124 -> 80.97712524997654\n",
      "Game 36: Player A (11) vs. Player B (13) Expected: (0.4986267265930117, 0.5013732734069882) ... Player A: 80.02287475002345 -> 79.98258135676376 ... Player B: 80.97712524997654 -> 82.01741864323623\n",
      "Game 37: Player A (17) vs. Player B (8) Expected: (0.4970716672302498, 0.5029283327697502) ... Player A: 79.98258135676376 -> 81.16550968953352 ... Player B: 82.01741864323623 -> 81.83449031046646\n",
      "Game 38: Player A (4) vs. Player B (11) Expected: (0.49903726068648885, 0.5009627393135112) ... Player A: 81.16550968953352 -> 80.9331390955137 ... Player B: 81.83449031046646 -> 83.06686090448629\n",
      "Game 39: Player A (8) vs. Player B (17) Expected: (0.4969293660853238, 0.5030706339146762) ... Player A: 80.9331390955137 -> 80.75620972942836 ... Player B: 83.06686090448629 -> 84.24379027057162\n",
      "Game 40: Player A (19) vs. Player B (5) Expected: (0.49498113671740324, 0.5050188632825967) ... Player A: 80.75620972942836 -> 82.05289525937764 ... Player B: 84.24379027057162 -> 83.94710474062235\n",
      "Game 41: Player A (12) vs. Player B (3) Expected: (0.49727404043718765, 0.5027259595628124) ... Player A: 82.05289525937764 -> 83.35562121894044 ... Player B: 83.94710474062235 -> 83.64437878105954\n",
      "Game 42: Player A (15) vs. Player B (17) Expected: (0.4995844445594156, 0.5004155554405845) ... Player A: 83.35562121894044 -> 83.32478677438102 ... Player B: 83.64437878105954 -> 84.67521322561896\n",
      "Game 43: Player A (2) vs. Player B (20) Expected: (0.49805658990181634, 0.5019434100981837) ... Player A: 83.32478677438102 -> 82.9176392753883 ... Player B: 84.67521322561896 -> 86.08236072461169\n",
      "Game 44: Player A (12) vs. Player B (6) Expected: (0.4954457256854377, 0.5045542743145623) ... Player A: 82.9176392753883 -> 84.08886021636953 ... Player B: 86.08236072461169 -> 85.91113978363046\n",
      "Game 45: Player A (11) vs. Player B (8) Expected: (0.49737755294301067, 0.5026224470569893) ... Player A: 84.08886021636953 -> 85.17043003184757 ... Player B: 85.91113978363046 -> 85.82956996815241\n",
      "Game 46: Player A (13) vs. Player B (19) Expected: (0.4990514225183337, 0.5009485774816663) ... Player A: 85.17043003184757 -> 85.07762860932924 ... Player B: 85.82956996815241 -> 86.92237139067075\n",
      "Game 47: Player A (11) vs. Player B (4) Expected: (0.4973452266796263, 0.5026547733203737) ... Player A: 85.07762860932924 -> 86.31361671598295 ... Player B: 86.92237139067075 -> 86.68638328401704\n",
      "Game 48: Player A (19) vs. Player B (19) Expected: (0.49946354599164206, 0.5005364540083579) ... Player A: 86.31361671598295 -> 86.3141531699913 ... Player B: 86.68638328401704 -> 86.68584683000869\n",
      "Game 49: Player A (20) vs. Player B (9) Expected: (0.49946509002862316, 0.5005349099713768) ... Player A: 86.3141531699913 -> 87.50434325237647 ... Player B: 86.68584683000869 -> 86.49565674762351\n",
      "Game 50: Player A (12) vs. Player B (3) Expected: (0.5014516124899127, 0.49854838751008734) ... Player A: 87.50434325237647 -> 88.80289163988655 ... Player B: 86.49565674762351 -> 86.19710836011343\n",
      "Game 51: Player A (17) vs. Player B (4) Expected: (0.5037499532724921, 0.49625004672750794) ... Player A: 88.80289163988655 -> 89.86054047277412 ... Player B: 86.19710836011343 -> 86.13945952722587\n",
      "Game 52: Player A (12) vs. Player B (13) Expected: (0.5053548612019135, 0.49464513879808647) ... Player A: 89.86054047277412 -> 90.08786304217317 ... Player B: 86.13945952722587 -> 86.91213695782682\n",
      "Game 53: Player A (12) vs. Player B (10) Expected: (0.5045701099390585, 0.4954298900609415) ... Player A: 90.08786304217317 -> 90.88103253265818 ... Player B: 86.91213695782682 -> 87.1189674673418\n",
      "Game 54: Player A (12) vs. Player B (8) Expected: (0.505413835251654, 0.49458616474834605) ... Player A: 90.88103253265818 -> 91.72832561503235 ... Player B: 87.1189674673418 -> 87.27167438496764\n",
      "Game 55: Player A (4) vs. Player B (9) Expected: (0.5064132849382071, 0.49358671506179286) ... Player A: 91.72832561503235 -> 91.78281128025554 ... Player B: 87.27167438496764 -> 88.21718871974444\n",
      "Game 56: Player A (19) vs. Player B (18) Expected: (0.5051311632054678, 0.4948688367945322) ... Player A: 91.78281128025554 -> 92.54375921216632 ... Player B: 88.21718871974444 -> 88.45624078783366\n",
      "Game 57: Player A (13) vs. Player B (14) Expected: (0.5058821404875405, 0.49411785951245946) ... Player A: 92.54375921216632 -> 92.77229962340404 ... Player B: 88.45624078783366 -> 89.22770037659595\n",
      "Game 58: Player A (18) vs. Player B (12) Expected: (0.5051009113925717, 0.49489908860742826) ... Player A: 92.77229962340404 -> 93.61974916770775 ... Player B: 89.22770037659595 -> 89.38025083229223\n",
      "Game 59: Player A (9) vs. Player B (16) Expected: (0.50610082575176, 0.49389917424824004) ... Player A: 93.61974916770775 -> 93.72669875483187 ... Player B: 89.38025083229223 -> 90.27330124516811\n",
      "Game 60: Player A (14) vs. Player B (20) Expected: (0.5049696748540008, 0.4950303251459992) ... Player A: 93.72669875483187 -> 93.88597862328722 ... Player B: 90.27330124516811 -> 91.11402137671277\n",
      "Game 61: Player A (21) vs. Player B (3) Expected: (0.5039890825067354, 0.49601091749326465) ... Player A: 93.88597862328722 -> 95.00898408203385 ... Player B: 91.11402137671277 -> 90.99101591796614\n",
      "Game 62: Player A (18) vs. Player B (21) Expected: (0.5057820632352905, 0.4942179367647095) ... Player A: 95.00898408203385 -> 95.21763151195466 ... Player B: 90.99101591796614 -> 91.78236848804532\n",
      "Game 63: Player A (4) vs. Player B (16) Expected: (0.5049435797958339, 0.49505642020416607) ... Player A: 95.21763151195466 -> 95.16515972205676 ... Player B: 91.78236848804532 -> 92.83484027794323\n",
      "Game 64: Player A (6) vs. Player B (16) Expected: (0.5033535489707001, 0.49664645102929994) ... Player A: 95.16515972205676 -> 95.18621022029868 ... Player B: 92.83484027794323 -> 93.81378977970131\n",
      "Game 65: Player A (10) vs. Player B (3) Expected: (0.5019750615071982, 0.4980249384928018) ... Player A: 95.18621022029868 -> 96.20445345877584 ... Player B: 93.81378977970131 -> 93.79554654122414\n",
      "Game 66: Player A (15) vs. Player B (8) Expected: (0.5034666401750598, 0.4965333598249402) ... Player A: 96.20445345877584 -> 97.1048940517318 ... Player B: 93.79554654122414 -> 93.89510594826818\n",
      "Game 67: Player A (10) vs. Player B (12) Expected: (0.5046191249856498, 0.49538087501435024) ... Player A: 97.1048940517318 -> 97.30712994378443 ... Player B: 93.89510594826818 -> 94.69287005621555\n",
      "Game 68: Player A (16) vs. Player B (2) Expected: (0.5037621514033097, 0.4962378485966903) ... Player A: 97.30712994378443 -> 98.44413775697166 ... Player B: 94.69287005621555 -> 94.55586224302833\n",
      "Game 69: Player A (18) vs. Player B (6) Expected: (0.5055954446711479, 0.4944045553288521) ... Player A: 98.44413775697166 -> 99.44134003463608 ... Player B: 94.55586224302833 -> 94.5586599653639\n",
      "Game 70: Player A (4) vs. Player B (19) Expected: (0.5063912539694486, 0.4936087460305514) ... Player A: 99 -> 98.92071741649355 ... Player B: 94.5586599653639 -> 95.63794254887036\n",
      "Game 71: Player A (20) vs. Player B (18) Expected: (0.5047241522128812, 0.49527584778711875) ... Player A: 98.92071741649355 -> 99.6946711298608 ... Player B: 95.63794254887036 -> 95.86398883550311\n",
      "Game 72: Player A (19) vs. Player B (10) Expected: (0.5045129602904702, 0.4954870397095298) ... Player A: 99 -> 99.90291593364788 ... Player B: 95.86398883550311 -> 95.96107290185523\n",
      "Game 73: Player A (20) vs. Player B (12) Expected: (0.5043732561214999, 0.49562674387850014) ... Player A: 99 -> 99.87281337193924 ... Player B: 95.96107290185523 -> 96.08825952991599\n",
      "Game 74: Player A (20) vs. Player B (15) Expected: (0.5041902332750817, 0.4958097667249183) ... Player A: 99 -> 99.81933345479104 ... Player B: 96.08825952991599 -> 96.26892607512495\n",
      "Game 75: Player A (2) vs. Player B (3) Expected: (0.5039302503673057, 0.49606974963269435) ... Player A: 99 -> 99.14803487481635 ... Player B: 96.26892607512495 -> 97.1208912003086\n",
      "Game 76: Player A (20) vs. Player B (10) Expected: (0.5027042285759658, 0.49729577142403425) ... Player A: 99 -> 99.91531455237869 ... Player B: 97.1208912003086 -> 97.20557664792992\n",
      "Game 77: Player A (17) vs. Player B (17) Expected: (0.5025823598268504, 0.4974176401731496) ... Player A: 99 -> 99.24870882008658 ... Player B: 97.20557664792992 -> 97.45686782784334\n",
      "Game 78: Player A (4) vs. Player B (19) Expected: (0.5022207311074253, 0.49777926889257473) ... Player A: 99 -> 98.92280267792455 ... Player B: 97.45686782784334 -> 98.53406514991879\n",
      "Game 79: Player A (15) vs. Player B (17) Expected: (0.5005594380397203, 0.49944056196027975) ... Player A: 98.92280267792455 -> 99.1412729589047 ... Player B: 98.53406514991879 -> 99.31559486893865\n",
      "Game 80: Player A (16) vs. Player B (19) Expected: (0.5, 0.5) ... Player A: 99 -> 99.20714285714286 ... Player B: 99 -> 99.79285714285714\n",
      "Game 81: Player A (20) vs. Player B (19) Expected: (0.5, 0.5) ... Player A: 99 -> 99.76282051282051 ... Player B: 99 -> 99.23717948717949\n",
      "Game 82: Player A (18) vs. Player B (5) Expected: (0.5, 0.5) ... Player A: 99 -> 100.03260869565217 ... Player B: 99 -> 98.96739130434783\n",
      "Game 83: Player A (11) vs. Player B (20) Expected: (0.5000469276851813, 0.49995307231481867) ... Player A: 99 -> 99.10481524583483 ... Player B: 98.96739130434783 -> 99.862576058513\n",
      "Game 84: Player A (7) vs. Player B (6) Expected: (0.5, 0.5) ... Player A: 99 -> 99.78846153846153 ... Player B: 99 -> 99.21153846153847\n",
      "Game 85: Player A (18) vs. Player B (21) Expected: (0.5, 0.5) ... Player A: 99 -> 99.21153846153847 ... Player B: 99 -> 99.78846153846153\n",
      "Game 86: Player A (18) vs. Player B (15) Expected: (0.5, 0.5) ... Player A: 99 -> 99.79545454545455 ... Player B: 99 -> 99.20454545454545\n",
      "Game 87: Player A (8) vs. Player B (14) Expected: (0.5, 0.5) ... Player A: 99 -> 99.11363636363636 ... Player B: 99 -> 99.88636363636364\n",
      "Game 88: Player A (9) vs. Player B (18) Expected: (0.5, 0.5) ... Player A: 99 -> 99.08333333333333 ... Player B: 99 -> 99.91666666666667\n",
      "Game 89: Player A (11) vs. Player B (13) Expected: (0.5, 0.5) ... Player A: 99 -> 99.20833333333333 ... Player B: 99 -> 99.79166666666667\n",
      "Game 90: Player A (5) vs. Player B (3) Expected: (0.5, 0.5) ... Player A: 99 -> 99.875 ... Player B: 99 -> 99.125\n",
      "Game 91: Player A (13) vs. Player B (13) Expected: (0.5, 0.5) ... Player A: 99 -> 99.25 ... Player B: 99 -> 99.25\n",
      "Game 92: Player A (19) vs. Player B (11) Expected: (0.5, 0.5) ... Player A: 99 -> 99.88333333333334 ... Player B: 99 -> 99.11666666666666\n",
      "Game 93: Player A (4) vs. Player B (3) Expected: (0.5, 0.5) ... Player A: 99 -> 99.82142857142857 ... Player B: 99 -> 99.17857142857143\n",
      "Game 94: Player A (17) vs. Player B (11) Expected: (0.5, 0.5) ... Player A: 99 -> 99.85714285714286 ... Player B: 99 -> 99.14285714285714\n",
      "Game 95: Player A (6) vs. Player B (3) Expected: (0.5, 0.5) ... Player A: 99 -> 99.91666666666667 ... Player B: 99 -> 99.08333333333333\n",
      "Game 96: Player A (14) vs. Player B (19) Expected: (0.5, 0.5) ... Player A: 99 -> 99.17424242424242 ... Player B: 99 -> 99.82575757575758\n",
      "Game 97: Player A (5) vs. Player B (14) Expected: (0.5, 0.5) ... Player A: 99 -> 99.01315789473684 ... Player B: 99 -> 99.98684210526316\n",
      "Game 98: Player A (10) vs. Player B (2) Expected: (0.5, 0.5) ... Player A: 99 -> 100.08333333333333 ... Player B: 99 -> 98.91666666666667\n"
     ]
    }
   ],
   "source": [
    "n=99\n",
    "A_rating = []\n",
    "B_rating = []\n",
    "\n",
    "A_wins = 0\n",
    "B_wins = 0\n",
    "Ties = 0\n",
    "# would work better if ties just don't happen... not unrealistic to assume this or build it in \n",
    "\n",
    "for i in range(n):\n",
    "    A_score = np.random.randint(2,22)\n",
    "    B_score = np.random.randint(2,22)\n",
    "    \n",
    "    if A_score > B_score:\n",
    "        A_wins += 1\n",
    "        \n",
    "    elif A_score < B_score:\n",
    "        B_wins += 1\n",
    "        \n",
    "    else:\n",
    "        Ties += 1\n",
    "    \n",
    "    output = rating_algorithm(A, B, A_score, B_score)\n",
    "    \n",
    "    A_rating.append(A.get_rating())\n",
    "    B_rating.append(B.get_rating())\n",
    "    \n",
    "    print(f'Game {i}: Player A ({A_score}) vs. Player B ({B_score}) {output}')"
   ]
  },
  {
   "cell_type": "code",
   "execution_count": 55,
   "metadata": {},
   "outputs": [
    {
     "name": "stdout",
     "output_type": "stream",
     "text": [
      "44\n"
     ]
    },
    {
     "data": {
      "image/png": "[encoded data removed]",
      "text/plain": [
       "<Figure size 432x288 with 1 Axes>"
      ]
     },
     "metadata": {
      "needs_background": "light"
     },
     "output_type": "display_data"
    }
   ],
   "source": [
    "plt.plot(A_rating)\n",
    "print(A_wins)"
   ]
  },
  {
   "cell_type": "code",
   "execution_count": 56,
   "metadata": {},
   "outputs": [
    {
     "name": "stdout",
     "output_type": "stream",
     "text": [
      "49\n"
     ]
    },
    {
     "data": {
      "image/png": "[encoded data removed]",
      "text/plain": [
       "<Figure size 432x288 with 1 Axes>"
      ]
     },
     "metadata": {
      "needs_background": "light"
     },
     "output_type": "display_data"
    }
   ],
   "source": [
    "plt.plot(B_rating)\n",
    "print(B_wins)"
   ]
  },
  {
   "cell_type": "markdown",
   "metadata": {},
   "source": [
    "### K Scaler Effect"
   ]
  },
  {
   "cell_type": "code",
   "execution_count": null,
   "metadata": {},
   "outputs": [],
   "source": []
  }
 ],
 "metadata": {
  "kernelspec": {
   "display_name": "Python 3",
   "language": "python",
   "name": "python3"
  },
  "language_info": {
   "codemirror_mode": {
    "name": "ipython",
    "version": 3
   },
   "file_extension": ".py",
   "mimetype": "text/x-python",
   "name": "python",
   "nbconvert_exporter": "python",
   "pygments_lexer": "ipython3",
   "version": "3.7.4"
  }
 },
 "nbformat": 4,
 "nbformat_minor": 2
}
